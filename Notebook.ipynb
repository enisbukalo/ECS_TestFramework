{
 "cells": [
  {
   "cell_type": "code",
   "execution_count": 2,
   "metadata": {},
   "outputs": [
    {
     "name": "stdout",
     "output_type": "stream",
     "text": [
      "0\n",
      "1\n"
     ]
    }
   ],
   "source": [
    "from dataclasses import dataclass\n",
    "from Core import Component\n",
    "\n",
    "\n",
    "@dataclass\n",
    "class Rectangle(Component):\n",
    "    width: float\n",
    "    height: float\n",
    "\n",
    "    def __init__(self, width: float, height: float):\n",
    "        super().__init__()\n",
    "        self.width = width\n",
    "        self.height = height\n",
    "\n",
    "\n",
    "x = Rectangle(width=10, height=20)\n",
    "y = Rectangle(width=30, height=40)\n",
    "isinstance(x, Component)\n",
    "isinstance(y, Component)\n",
    "\n",
    "print(x.id)\n",
    "print(y.id)"
   ]
  }
 ],
 "metadata": {
  "kernelspec": {
   "display_name": "ECS_TestFramework",
   "language": "python",
   "name": "python3"
  },
  "language_info": {
   "codemirror_mode": {
    "name": "ipython",
    "version": 3
   },
   "file_extension": ".py",
   "mimetype": "text/x-python",
   "name": "python",
   "nbconvert_exporter": "python",
   "pygments_lexer": "ipython3",
   "version": "3.11.1"
  }
 },
 "nbformat": 4,
 "nbformat_minor": 2
}
